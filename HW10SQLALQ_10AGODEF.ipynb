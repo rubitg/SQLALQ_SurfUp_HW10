{
 "cells": [
  {
   "cell_type": "code",
   "execution_count": 1,
   "metadata": {},
   "outputs": [],
   "source": [
    "# Homework 10\n",
    "# Rubi Trujillo\n",
    "# 05 Agosto 2019"
   ]
  },
  {
   "cell_type": "code",
   "execution_count": 2,
   "metadata": {},
   "outputs": [],
   "source": [
    "%matplotlib inline\n",
    "from matplotlib import style\n",
    "style.use('fivethirtyeight')\n",
    "import matplotlib.pyplot as plt"
   ]
  },
  {
   "cell_type": "code",
   "execution_count": 3,
   "metadata": {},
   "outputs": [],
   "source": [
    "import numpy as np\n",
    "import pandas as pd\n"
   ]
  },
  {
   "cell_type": "code",
   "execution_count": 4,
   "metadata": {},
   "outputs": [],
   "source": [
    "import datetime as dt\n",
    "from datetime import datetime"
   ]
  },
  {
   "cell_type": "code",
   "execution_count": 5,
   "metadata": {},
   "outputs": [],
   "source": [
    "#Reflect Tables into SQLAlchemy ORM"
   ]
  },
  {
   "cell_type": "code",
   "execution_count": 6,
   "metadata": {},
   "outputs": [],
   "source": [
    "# Python SQL toolkit and Object Relational Mapper\n",
    "import sqlalchemy\n",
    "from sqlalchemy.ext.automap import automap_base\n",
    "from sqlalchemy.orm import Session\n",
    "from sqlalchemy import create_engine, func\n",
    "from sqlalchemy import desc"
   ]
  },
  {
   "cell_type": "code",
   "execution_count": 7,
   "metadata": {},
   "outputs": [],
   "source": [
    "engine = create_engine(\"sqlite:///hawaii.sqlite\")"
   ]
  },
  {
   "cell_type": "code",
   "execution_count": 8,
   "metadata": {},
   "outputs": [],
   "source": [
    "# reflect an existing database into a new model\n",
    "Base = automap_base()\n",
    "# reflect the tables\n",
    "Base.prepare(engine, reflect=True)"
   ]
  },
  {
   "cell_type": "code",
   "execution_count": 9,
   "metadata": {},
   "outputs": [
    {
     "data": {
      "text/plain": [
       "['measurement', 'station']"
      ]
     },
     "execution_count": 9,
     "metadata": {},
     "output_type": "execute_result"
    }
   ],
   "source": [
    "# We can view all of the classes that automap found\n",
    "Base.classes.keys()"
   ]
  },
  {
   "cell_type": "code",
   "execution_count": 10,
   "metadata": {},
   "outputs": [],
   "source": [
    "# Save references to each table\n",
    "Measurement = Base.classes.measurement\n",
    "Station = Base.classes.station"
   ]
  },
  {
   "cell_type": "code",
   "execution_count": 11,
   "metadata": {},
   "outputs": [],
   "source": [
    "# Create our session (link) from Python to the DB\n",
    "session = Session(engine)"
   ]
  },
  {
   "cell_type": "code",
   "execution_count": 12,
   "metadata": {},
   "outputs": [],
   "source": [
    "# PART 2 - Exploratory Climate Analysis"
   ]
  },
  {
   "cell_type": "code",
   "execution_count": 14,
   "metadata": {},
   "outputs": [
    {
     "data": {
      "text/plain": [
       "Text(0, 0.5, 'Precipitation')"
      ]
     },
     "execution_count": 14,
     "metadata": {},
     "output_type": "execute_result"
    },
    {
     "data": {
      "image/png": "[encoded data removed]",
      "text/plain": [
       "<Figure size 432x288 with 1 Axes>"
      ]
     },
     "metadata": {
      "needs_background": "light"
     },
     "output_type": "display_data"
    }
   ],
   "source": [
    "# Design a query to retrieve the last 12 months of precipitation data and plot the results\n",
    "##### NOTE: dates are from 2010 to 2017!!!! there is no 2018!!!!!\n",
    "## so last 12 months since today August 2019 will get NOTHING... that is why is empty!!\n",
    "## then i will change last 24 instead 12!!!!\n",
    "\n",
    "\n",
    "# Calculate the date 1 year ago from the last data point in the database\n",
    "\n",
    "today=(datetime.strptime(str(dt.date.today()), '%Y-%m-%d'))\n",
    "twelveago=(datetime.strptime(str(dt.date.today() - dt.timedelta(365*2)), '%Y-%m-%d'))\n",
    "twelveago,today\n",
    "\n",
    "# Perform a query to retrieve the data and precipitation scores\n",
    "    #need to order to show\n",
    "    # sensible how to separate each one\n",
    "qry1 = session.query(Measurement.date,Measurement.prcp).\\\n",
    "                filter(Measurement.date > twelveago ).\\\n",
    "                order_by(Measurement.date).all( )\n",
    "qry1\n",
    "#print(qry1)\n",
    "\n",
    "# Save the query results as a Pandas DataFrame and set the index to the date column\n",
    "Q1_DF=pd.DataFrame(qry1)\n",
    "Q1_DF.set_index(['date'])\n",
    "Q1_DF\n",
    "# there are missing values then delete()\n",
    "Q1_DF.dropna() \n",
    "\n",
    "# Sort the dataframe by date  --- already done in query\n",
    "\n",
    "# Use Pandas Plotting with Matplotlib to plot the data\n",
    "\n",
    "fig=Q1_DF.plot(kind='bar',x='date',y='prcp')\n",
    "fig.set_title('Precipation by date last 24 months', fontdict={'fontsize': 12, 'fontweight': 'medium'})\n",
    "\n",
    "cur_axes = plt.gca()\n",
    "cur_axes.axes.get_xaxis().set_visible(False)\n",
    "cur_axes.axes.get_yaxis().set_visible(True)\n",
    "plt.figsize=(20, 20)\n",
    "plt.legend(loc='upper left')\n",
    "plt.xlabel ('Daily Date')\n",
    "plt.ylabel ('Precipitation')\n",
    "#plt.setp(fig.get_xticklabels(),visible=False)\n",
    "\n"
   ]
  },
  {
   "cell_type": "raw",
   "metadata": {},
   "source": []
  },
  {
   "cell_type": "code",
   "execution_count": 15,
   "metadata": {},
   "outputs": [
    {
     "data": {
      "text/plain": [
       "count    45.000\n",
       "mean      0.085\n",
       "std       0.153\n",
       "min       0.000\n",
       "25%       0.000\n",
       "50%       0.000\n",
       "75%       0.080\n",
       "max       0.560\n",
       "Name: prcp, dtype: object"
      ]
     },
     "execution_count": 15,
     "metadata": {},
     "output_type": "execute_result"
    }
   ],
   "source": [
    "# use´pandas to calculate the summary statistics for the precipitation data\n",
    "# 25% of time rain >0.08.. maximun reach 0.56\n",
    "Q1_DF['prcp'].describe().apply(\"{0:.3f}\".format)"
   ]
  },
  {
   "cell_type": "code",
   "execution_count": 16,
   "metadata": {},
   "outputs": [
    {
     "name": "stdout",
     "output_type": "stream",
     "text": [
      "There are 9 stations :[('USC00511918',), ('USC00513117',), ('USC00514830',), ('USC00516128',), ('USC00517948',), ('USC00518838',), ('USC00519281',), ('USC00519397',), ('USC00519523',)]\n"
     ]
    }
   ],
   "source": [
    "# Design a query to show how many stations are available in this dataset?\n",
    "qry2 = session.query(Measurement.station).\\\n",
    "                group_by(Measurement.station).count( )\n",
    "\n",
    "qry3 = session.query(Measurement.station).\\\n",
    "                group_by(Measurement.station).all( )\n",
    "print('There are '+ str(qry2) + ' stations :' + str(qry3))\n"
   ]
  },
  {
   "cell_type": "code",
   "execution_count": 17,
   "metadata": {},
   "outputs": [
    {
     "data": {
      "text/plain": [
       "[('USC00519281', 2772),\n",
       " ('USC00519397', 2724),\n",
       " ('USC00513117', 2709),\n",
       " ('USC00519523', 2669),\n",
       " ('USC00516128', 2612),\n",
       " ('USC00514830', 2202),\n",
       " ('USC00511918', 1979),\n",
       " ('USC00517948', 1372),\n",
       " ('USC00518838', 511)]"
      ]
     },
     "execution_count": 17,
     "metadata": {},
     "output_type": "execute_result"
    }
   ],
   "source": [
    "# What are the most active stations? (i.e. what stations have the most rows)?\n",
    "# List the stations and the counts in descending order.\n",
    "qry4 = session.query(Measurement.station,func.count()).\\\n",
    "                group_by(Measurement.station).\\\n",
    "                order_by(desc(func.count())).all()\n",
    "qry4\n"
   ]
  },
  {
   "cell_type": "code",
   "execution_count": 18,
   "metadata": {},
   "outputs": [
    {
     "data": {
      "text/plain": [
       "[('USC00519281', 54.0, 85.0, 71.66378066378067),\n",
       " ('USC00519397', 56.0, 87.0, 74.55323054331865),\n",
       " ('USC00513117', 59.0, 85.0, 72.68918420081211),\n",
       " ('USC00519523', 56.0, 85.0, 74.5436493068565),\n",
       " ('USC00516128', 58.0, 84.0, 70.91500765696784),\n",
       " ('USC00514830', 58.0, 85.0, 74.8732970027248),\n",
       " ('USC00511918', 53.0, 87.0, 71.61596766043456),\n",
       " ('USC00517948', 58.0, 87.0, 74.68440233236151),\n",
       " ('USC00518838', 58.0, 83.0, 72.72407045009784)]"
      ]
     },
     "execution_count": 18,
     "metadata": {},
     "output_type": "execute_result"
    }
   ],
   "source": [
    "# Using the station id from the previous query, calculate the lowest temperature recorded, \n",
    "# highest temperature recorded, and average temperature most active station?\n",
    "\n",
    "qry5 = session.query(Measurement.station,func.min(Measurement.tobs),func.max(Measurement.tobs),func.avg(Measurement.tobs)).\\\n",
    "                group_by(Measurement.station).\\\n",
    "               order_by(desc(func.count())).all()\n",
    "qry5\n"
   ]
  },
  {
   "cell_type": "code",
   "execution_count": 19,
   "metadata": {},
   "outputs": [
    {
     "name": "stdout",
     "output_type": "stream",
     "text": [
      "('2017-08-18',)\n"
     ]
    },
    {
     "data": {
      "text/plain": [
       "Text(0.5, 1.0, 'Temperature by date last 12 months- Station USC00519281')"
      ]
     },
     "execution_count": 19,
     "metadata": {},
     "output_type": "execute_result"
    },
    {
     "data": {
      "text/plain": [
       "<Figure size 1224x720 with 0 Axes>"
      ]
     },
     "metadata": {},
     "output_type": "display_data"
    },
    {
     "data": {
      "image/png": "[encoded data removed]",
      "text/plain": [
       "<Figure size 432x288 with 1 Axes>"
      ]
     },
     "metadata": {
      "needs_background": "light"
     },
     "output_type": "display_data"
    }
   ],
   "source": [
    "# Choose the station with the highest number of temperature observations.\n",
    "ses_maxobs = session.query(Measurement.station).\\\n",
    "                group_by(Measurement.station).\\\n",
    "                order_by(desc(func.count())).first()\n",
    "ses_maxobs\n",
    "# Query the last 12 months of temperature observation data for this station and plot the results as a histogram\n",
    "    #read last observation date and from that date get last 12 months\n",
    "last_tobs = session.query(Measurement.date).\\\n",
    "                 filter(Measurement.station == 'USC00519281').\\\n",
    "                 order_by(Measurement.date.desc()).first()\n",
    "print(last_tobs )\n",
    "        # result last_tobs = ('2017-08-18',)  \n",
    "        #converting result to date\n",
    "       # fecha = pd.to_datetime(last_tobs).strftime( '%Y-%m-%d')\n",
    "       # fecha = pd.to_datetime(last_tobs)\n",
    "       # fecha\n",
    "       # mth12_lst=(datetime.strptime(str(fecha - dt.timedelta(365)), '%Y-%m-%d'))\n",
    "\n",
    "\n",
    "qry6 = session.query(Measurement.date,Measurement.tobs).\\\n",
    "                    filter( Measurement.date > '2016-08-18').\\\n",
    "                    filter( Measurement.station == 'USC00519281').\\\n",
    "                    order_by(Measurement.date).all( )\n",
    "\n",
    "qry6\n",
    "\n",
    "# Save the query results as a Pandas DataFrame and set the index to the date column\n",
    "Q6_DF=pd.DataFrame(qry6)\n",
    "Q6_DF.set_index(['date'])\n",
    "Q6_DF\n",
    "Q6_DF.dropna() \n",
    "\n",
    "# prueba 2\n",
    "fig=plt.figure(figsize=(17,10))\n",
    "Q6_DF.hist(column=\"tobs\",bins=12)\n",
    "plt.xlabel('Temperature',fontsize=15)\n",
    "plt.ylabel(\"Frequency\",fontsize=15)\n",
    "plt.xlim([50,90])\n",
    "plt.title('Temperature by date last 12 months- Station USC00519281', fontdict={'fontsize': 12, 'fontweight': 'medium'})"
   ]
  },
  {
   "cell_type": "code",
   "execution_count": 21,
   "metadata": {},
   "outputs": [],
   "source": [
    "####  Step 2 - Climate App\n",
    "# design a Flask API based on the queries that you have just developed.\n",
    "# see hawaii_api.py\n"
   ]
  },
  {
   "cell_type": "code",
   "execution_count": null,
   "metadata": {},
   "outputs": [],
   "source": []
  },
  {
   "cell_type": "code",
   "execution_count": null,
   "metadata": {},
   "outputs": [],
   "source": []
  },
  {
   "cell_type": "code",
   "execution_count": null,
   "metadata": {},
   "outputs": [],
   "source": []
  },
  {
   "cell_type": "code",
   "execution_count": null,
   "metadata": {},
   "outputs": [],
   "source": []
  },
  {
   "cell_type": "code",
   "execution_count": null,
   "metadata": {},
   "outputs": [],
   "source": []
  },
  {
   "cell_type": "code",
   "execution_count": null,
   "metadata": {},
   "outputs": [],
   "source": []
  },
  {
   "cell_type": "code",
   "execution_count": null,
   "metadata": {},
   "outputs": [],
   "source": [
    "\n"
   ]
  },
  {
   "cell_type": "code",
   "execution_count": null,
   "metadata": {},
   "outputs": [],
   "source": [
    "\n"
   ]
  },
  {
   "cell_type": "code",
   "execution_count": null,
   "metadata": {},
   "outputs": [],
   "source": []
  },
  {
   "cell_type": "code",
   "execution_count": null,
   "metadata": {},
   "outputs": [],
   "source": []
  },
  {
   "cell_type": "code",
   "execution_count": null,
   "metadata": {},
   "outputs": [],
   "source": []
  }
 ],
 "metadata": {
  "kernelspec": {
   "display_name": "Python 3",
   "language": "python",
   "name": "python3"
  },
  "language_info": {
   "codemirror_mode": {
    "name": "ipython",
    "version": 3
   },
   "file_extension": ".py",
   "mimetype": "text/x-python",
   "name": "python",
   "nbconvert_exporter": "python",
   "pygments_lexer": "ipython3",
   "version": "3.7.3"
  }
 },
 "nbformat": 4,
 "nbformat_minor": 2
}
